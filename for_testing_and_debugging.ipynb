{
 "cells": [
  {
   "cell_type": "code",
   "execution_count": 1,
   "metadata": {},
   "outputs": [],
   "source": [
    "import numpy as np\n",
    "def orientation_to_dcm(forward, up=np.array([0,0,1])):\n",
    "    f = np.array(forward, dtype=float)\n",
    "    f /= np.linalg.norm(f)\n",
    "    # if forward is (anti)parallel to up, choose a default right axis\n",
    "    if np.linalg.norm(np.cross(up, f)) < 1e-8:\n",
    "        # forward parallel to up -> no yaw info; choose right = +x\n",
    "        r = np.array([1.0, 0.0, 0.0])\n",
    "        # if forward is -up (i.e. [0,0,-1]) flip right to keep right-handedness\n",
    "        if np.dot(f, up) < 0:\n",
    "            r = -r\n",
    "    else:\n",
    "        r = np.cross(up, f)\n",
    "        r /= np.linalg.norm(r)\n",
    "    u = np.cross(f, r)\n",
    "    R = np.column_stack((r, u, f))\n",
    "    return R"
   ]
  },
  {
   "cell_type": "code",
   "execution_count": null,
   "metadata": {},
   "outputs": [
    {
     "data": {
      "text/plain": [
       "array([0.57735027, 0.57735027, 0.57735027])"
      ]
     },
     "execution_count": 5,
     "metadata": {},
     "output_type": "execute_result"
    }
   ],
   "source": [
    "a=[1,1,1]\n",
    "a/=np.linalg.norm(a)\n",
    "print(a)\n",
    "orientation_to_dcm(a)@[0,0,1]"
   ]
  },
  {
   "cell_type": "code",
   "execution_count": 7,
   "metadata": {},
   "outputs": [],
   "source": [
    "g=9.8 #m/s^2\n",
    "R_earth=6371e3 #meter\n",
    "dt=10 #seconds\n",
    "total_time=60*60\n",
    "latitude= 19.5 / 180 * np.pi #radians\n",
    "w_earth=2*np.pi/24/60/60 #rad/s\n",
    "G_force_limit=4\n",
    "p=np.array([6039478.38247853,  580788.51691171, 2138691.4636333 ])\n",
    "t=4+0.74*60\n",
    "ip=[np.array([R_earth*np.cos(latitude),0,R_earth*np.sin(latitude)])]"
   ]
  },
  {
   "cell_type": "code",
   "execution_count": 9,
   "metadata": {},
   "outputs": [],
   "source": [
    "theta=w_earth*t\n",
    "Rz = np.array([[ np.cos(theta), np.sin(theta), 0],\n",
    "                [ -np.sin(theta),  np.cos(theta), 0],\n",
    "                [0,0,1]        ])\n",
    "p_2=Rz@p"
   ]
  },
  {
   "cell_type": "code",
   "execution_count": 10,
   "metadata": {},
   "outputs": [
    {
     "data": {
      "text/plain": [
       "array([6041485.19671994,  559527.5253424 , 2138691.4636333 ])"
      ]
     },
     "execution_count": 10,
     "metadata": {},
     "output_type": "execute_result"
    }
   ],
   "source": [
    "p_2"
   ]
  },
  {
   "cell_type": "code",
   "execution_count": 11,
   "metadata": {},
   "outputs": [
    {
     "data": {
      "text/plain": [
       "[array([6005568.93974827,       0.        , 2126683.50017835])]"
      ]
     },
     "execution_count": 11,
     "metadata": {},
     "output_type": "execute_result"
    }
   ],
   "source": [
    "ip"
   ]
  },
  {
   "cell_type": "code",
   "execution_count": 2,
   "metadata": {},
   "outputs": [
    {
     "data": {
      "text/plain": [
       "array([ 21341.19241123, 699253.82558137,  12011.4636333 ])"
      ]
     },
     "execution_count": 2,
     "metadata": {},
     "output_type": "execute_result"
    }
   ],
   "source": [
    "import numpy as np\n",
    "np.array([6026911.19241123, 699253.82558137, 2138691.4636333])-np.array([6005.57,0,2126.68])*1e3"
   ]
  },
  {
   "cell_type": "code",
   "execution_count": 4,
   "metadata": {},
   "outputs": [
    {
     "data": {
      "text/plain": [
       "array([ 21.34119241, 699.25382558,  12.01146363])"
      ]
     },
     "execution_count": 4,
     "metadata": {},
     "output_type": "execute_result"
    }
   ],
   "source": [
    "np.array([ 21341.19241123, 699253.82558137,  12011.4636333 ])/1e3"
   ]
  },
  {
   "cell_type": "code",
   "execution_count": 5,
   "metadata": {},
   "outputs": [
    {
     "data": {
      "text/plain": [
       "array([ 399.13023142, 4875.75758456,  126.38282874])"
      ]
     },
     "execution_count": 5,
     "metadata": {},
     "output_type": "execute_result"
    }
   ],
   "source": [
    "w_earth=2*np.pi/24/60/60\n",
    "np.array([ 356.8940986,  5314.96084655,  126.38282874])-np.cross(np.array([0,0,w_earth]),np.array([6039478.38247853,  580788.51691171, 2138691.4636333 ]))"
   ]
  },
  {
   "cell_type": "code",
   "execution_count": null,
   "metadata": {},
   "outputs": [],
   "source": []
  }
 ],
 "metadata": {
  "kernelspec": {
   "display_name": "base",
   "language": "python",
   "name": "python3"
  },
  "language_info": {
   "codemirror_mode": {
    "name": "ipython",
    "version": 3
   },
   "file_extension": ".py",
   "mimetype": "text/x-python",
   "name": "python",
   "nbconvert_exporter": "python",
   "pygments_lexer": "ipython3",
   "version": "3.12.7"
  }
 },
 "nbformat": 4,
 "nbformat_minor": 2
}
